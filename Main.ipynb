{
 "cells": [
  {
   "cell_type": "code",
   "execution_count": null,
   "metadata": {},
   "outputs": [],
   "source": [
    "import tensorflow as tf\n",
    "import matplotlib.pyplot as plt\n",
    "import numpy as np\n",
    "import os\n",
    "import numpy as np\n",
    "from tensorflow import keras\n",
    "vgg_model = tf.keras.applications.vgg16.VGG16()\n",
    "print(type(vgg_model))\n",
    "\n",
    "preprocess_input = tf.keras.applications.vgg16.preprocess_input\n",
    "\n",
    "vgg_model.summary()\n",
    "train_data = keras.preprocessing.image.ImageDataGenerator(preprocessing_function=preprocess_input)\n",
    "BATCH_SIZE = 32\n",
    "PIC_SIZE = 224\n",
    "\n",
    "train = train_data.flow_from_directory(\"./train\", target_size=(PIC_SIZE,PIC_SIZE), batch_size=BATCH_SIZE, class_mode=\"categorical\", color_mode='rgb', shuffle=True)\n",
    "train.class_indices\n",
    "hand_indexs = {v: k for k, v in train.class_indices.items()}\n",
    "hand_indexs\n",
    "import pickle as pkl\n",
    "\n",
    "pkl.dump(hand_indexs, open(\"hand_labels.pkl\", \"wb\"))\n",
    "model = keras.models.Sequential()\n",
    "for layer in vgg_model.layers[0:-1]:\n",
    "    model.add(layer)\n",
    "    \n",
    "model.summary()\n",
    "for layer in model.layers:\n",
    "    layer.trainable = False\n",
    "    \n",
    "model.summary()\n",
    "model.add(tf.keras.layers.Dense(6, activation='softmax'))\n",
    "optimizer = tf.keras.optimizers.Adam(learning_rate=0.001)\n",
    "loss = tf.keras.losses.CategoricalCrossentropy()\n",
    "\n",
    "model.compile(optimizer=optimizer, loss=loss, metrics=['acc'])\n",
    "model.fit(train, epochs=20)\n",
    "\n",
    "print(\"Model Trained\")\n",
    "model.save(\"hand_model.h5\")"
   ]
  }
 ],
 "metadata": {
  "language_info": {
   "name": "python"
  }
 },
 "nbformat": 4,
 "nbformat_minor": 2
}
